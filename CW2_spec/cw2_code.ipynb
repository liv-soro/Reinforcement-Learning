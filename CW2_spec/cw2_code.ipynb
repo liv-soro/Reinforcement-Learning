{
  "nbformat": 4,
  "nbformat_minor": 0,
  "metadata": {
    "colab": {
      "name": "cw2_code.ipynb",
      "provenance": [],
      "collapsed_sections": []
    },
    "kernelspec": {
      "display_name": "Python 3",
      "language": "python",
      "name": "python3"
    },
    "language_info": {
      "codemirror_mode": {
        "name": "ipython",
        "version": 3
      },
      "file_extension": ".py",
      "mimetype": "text/x-python",
      "name": "python",
      "nbconvert_exporter": "python",
      "pygments_lexer": "ipython3",
      "version": "3.8.3"
    }
  },
  "cells": [
    {
      "cell_type": "code",
      "metadata": {
        "id": "QY5RANDTgmn4"
      },
      "source": [
        "# This is the coursework 2 for the Reinforcement Leaning course 2021 taught at Imperial College London (https://www.imperial.ac.uk/computing/current-students/courses/70028/)\n",
        "# The code is based on the OpenAI Gym original (https://pytorch.org/tutorials/intermediate/reinforcement_q_learning.html) and modified by Filippo Valdettaro and Prof. Aldo Faisal for the purposes of the course.\n",
        "# There may be differences to the reference implementation in OpenAI gym and other solutions floating on the internet, but this is the defeinitive implementation for the course.\n",
        "\n",
        "# Instaling in Google Colab the libraries used for the coursework\n",
        "# You do NOT need to understand it to work on this coursework\n",
        "\n",
        "!pip install gym\n",
        "\n",
        "from IPython.display import clear_output\n",
        "clear_output()"
      ],
      "execution_count": null,
      "outputs": []
    },
    {
      "cell_type": "code",
      "metadata": {
        "id": "uIIRZsVAgqj3"
      },
      "source": [
        "# Importing the libraries\n",
        "\n",
        "import gym\n",
        "from gym.wrappers.monitoring.video_recorder import VideoRecorder    #records videos of episodes\n",
        "import numpy as np\n",
        "import matplotlib.pyplot as plt # Graphical library\n",
        "\n",
        "import torch\n",
        "import torch.optim as optim\n",
        "import torch.nn as nn\n",
        "import torch.nn.functional as F\n",
        "device = torch.device(\"cuda\" if torch.cuda.is_available() else \"cpu\") # Configuring Pytorch\n",
        "\n",
        "from collections import namedtuple, deque\n",
        "from itertools import count\n",
        "import math\n",
        "import random\n",
        "\n",
        "clear_output()"
      ],
      "execution_count": null,
      "outputs": []
    },
    {
      "cell_type": "code",
      "metadata": {
        "id": "lthD1pKEgx0n"
      },
      "source": [
        "# Test cell: check ai gym  environment + recording working as intended\n",
        "\n",
        "env = gym.make(\"CartPole-v1\")\n",
        "file_path = 'video/video.mp4'\n",
        "recorder = VideoRecorder(env, file_path)\n",
        "\n",
        "observation = env.reset()\n",
        "terminal = False\n",
        "while not terminal:\n",
        "  recorder.capture_frame()\n",
        "  action = int(observation[2]>0)\n",
        "  observation, reward, terminal, info = env.step(action)\n",
        "  # Observation is position, velocity, angle, angular velocity\n",
        "\n",
        "recorder.close()\n",
        "env.close()"
      ],
      "execution_count": null,
      "outputs": []
    },
    {
      "cell_type": "code",
      "metadata": {
        "id": "wbY7I4_3hNKt"
      },
      "source": [
        "Transition = namedtuple('Transition',\n",
        "                        ('state', 'action', 'next_state', 'reward'))\n",
        "\n",
        "\n",
        "class ReplayBuffer(object):\n",
        "\n",
        "    def __init__(self, capacity):\n",
        "        self.memory = deque([],maxlen=capacity)\n",
        "\n",
        "    def push(self, *args):\n",
        "        \"\"\"Save a transition\"\"\"\n",
        "        self.memory.append(Transition(*args))\n",
        "\n",
        "    def sample(self, batch_size):\n",
        "        return random.sample(self.memory, batch_size)\n",
        "\n",
        "    def __len__(self):\n",
        "        return len(self.memory)"
      ],
      "execution_count": null,
      "outputs": []
    },
    {
      "cell_type": "code",
      "metadata": {
        "id": "eDPXRL-Bh9wm"
      },
      "source": [
        "class DQN(nn.Module):\n",
        "\n",
        "    def __init__(self, inputs, outputs, num_hidden, hidden_size):\n",
        "        super(DQN, self).__init__()\n",
        "        self.input_layer = nn.Linear(inputs, hidden_size)\n",
        "        self.hidden_layers = nn.ModuleList([nn.Linear(hidden_size, hidden_size) for _ in range(num_hidden-1)])\n",
        "        self.output_layer = nn.Linear(hidden_size, outputs)\n",
        "    \n",
        "    def forward(self, x):\n",
        "        x.to(device)\n",
        "\n",
        "        x = F.relu(self.input_layer(x))\n",
        "        for layer in self.hidden_layers:\n",
        "            x = F.relu(layer(x))\n",
        "        \n",
        "        return self.output_layer(x)"
      ],
      "execution_count": null,
      "outputs": []
    },
    {
      "cell_type": "code",
      "metadata": {
        "id": "aC1RIQFkiPc1"
      },
      "source": [
        "def optimize_model():\n",
        "    if len(memory) < BATCH_SIZE:\n",
        "        return\n",
        "    transitions = memory.sample(BATCH_SIZE)\n",
        "    # Transpose the batch (see https://stackoverflow.com/a/19343/3343043 for\n",
        "    # detailed explanation). This converts batch-array of Transitions\n",
        "    # to Transition of batch-arrays.\n",
        "    batch = Transition(*zip(*transitions))\n",
        "\n",
        "    # Compute a mask of non-final states and concatenate the batch elements\n",
        "    # (a final state would've been the one after which simulation ended)\n",
        "    non_final_mask = torch.tensor(tuple(map(lambda s: s is not None,\n",
        "                                          batch.next_state)), device=device, dtype=torch.bool)\n",
        "    \n",
        "\n",
        "    # Can safely omit the condition below to check that not all states in the\n",
        "    # sampled batch are terminal whenever the batch size is reasonable and\n",
        "    # there is virtually no chance that all states in the sampled batch are \n",
        "    # terminal\n",
        "    if sum(non_final_mask) > 0:\n",
        "        non_final_next_states = torch.cat([s for s in batch.next_state\n",
        "                                                    if s is not None])\n",
        "    else:\n",
        "        non_final_next_states = torch.empty(0,state_dim).to(device)\n",
        "\n",
        "    state_batch = torch.cat(batch.state)\n",
        "    action_batch = torch.cat(batch.action)\n",
        "    reward_batch = torch.cat(batch.reward)\n",
        "\n",
        "    # Compute Q(s_t, a) - the model computes Q(s_t), then we select the\n",
        "    # columns of actions taken. These are the actions which would've been taken\n",
        "    # for each batch state according to policy_net\n",
        "    state_action_values = policy_net(state_batch).gather(1, action_batch)\n",
        "\n",
        "    # Compute V(s_{t+1}) for all next states.\n",
        "    # This is merged based on the mask, such that we'll have either the expected\n",
        "    # state value or 0 in case the state was final.\n",
        "    next_state_values = torch.zeros(BATCH_SIZE, device=device)\n",
        "    \n",
        "    with torch.no_grad():\n",
        "        # Once again can omit the conditional if batch size is large enough\n",
        "        if sum(non_final_mask) > 0:\n",
        "            next_state_values[non_final_mask] = policy_net(non_final_next_states).max(1)[0].detach()\n",
        "        else:\n",
        "            next_state_values = torch.zeros_like(next_state_values)\n",
        "\n",
        "\n",
        "    # Compute the expected Q values\n",
        "    expected_state_action_values = (next_state_values * GAMMA) + reward_batch\n",
        "\n",
        "    # Compute loss\n",
        "    loss = ((state_action_values - expected_state_action_values.unsqueeze(1))**2).sum()\n",
        "\n",
        "    # Optimize the model\n",
        "    optimizer.zero_grad()\n",
        "    loss.backward()\n",
        "\n",
        "    # Limit magnitude of gradient for update step\n",
        "    for param in policy_net.parameters():\n",
        "        param.grad.data.clamp_(-1, 1)\n",
        "\n",
        "    optimizer.step()"
      ],
      "execution_count": null,
      "outputs": []
    },
    {
      "cell_type": "code",
      "metadata": {
        "id": "0_QllIXKivt-"
      },
      "source": [
        "NUM_EPISODES = 300\n",
        "BATCH_SIZE = 1\n",
        "GAMMA = 0.999\n",
        "\n",
        "epsilon = 0\n",
        "num_hidden_layers = 1\n",
        "size_hidden_layers = 10\n",
        "\n",
        "# Get number of states and actions from gym action space\n",
        "env = gym.make(\"CartPole-v1\")\n",
        "env.reset()\n",
        "state_dim = len(env.state)    #x, x_dot, theta, theta_dot\n",
        "n_actions = env.action_space.n\n",
        "env.close()\n",
        "\n",
        "policy_net = DQN(state_dim, n_actions, num_hidden_layers, size_hidden_layers).to(device)\n",
        "                     \n",
        "optimizer = optim.RMSprop(policy_net.parameters())\n",
        "memory = ReplayBuffer(1)\n",
        "\n",
        "\n",
        "def select_action(state, current_eps=0):\n",
        "\n",
        "    sample = random.random()\n",
        "    eps_threshold = current_eps\n",
        "    if sample > eps_threshold:\n",
        "        with torch.no_grad():\n",
        "            # t.max(1) will return largest column value of each row.\n",
        "            # second column on max result is index of where max element was\n",
        "            # found, so we pick action with the larger expected reward.\n",
        "\n",
        "            return policy_net(state).max(1)[1].view(1, 1)\n",
        "    else:\n",
        "        return torch.tensor([[random.randrange(n_actions)]], device=device, dtype=torch.long)"
      ],
      "execution_count": null,
      "outputs": []
    },
    {
      "cell_type": "code",
      "metadata": {
        "id": "p6nCo5ObizmF",
        "outputId": "849fb18a-a3c9-474e-d6ef-e5377300c2c8"
      },
      "source": [
        "for i_episode in range(NUM_EPISODES):\n",
        "    if i_episode % 20 == 0:\n",
        "        print(\"episode \", i_episode, \"/\", NUM_EPISODES)\n",
        "\n",
        "    # Initialize the environment and state\n",
        "    env.reset()\n",
        "    state = torch.tensor(env.state).float().unsqueeze(0).to(device)\n",
        "\n",
        "    for t in count():\n",
        "        # Select and perform an action\n",
        "        \n",
        "        action = select_action(state, epsilon)\n",
        "        _, reward, done, _ = env.step(action.item())\n",
        "        reward = torch.tensor([reward], device=device)\n",
        "\n",
        "        # Observe new state\n",
        "        if not done:\n",
        "            next_state = torch.tensor(env.state).float().unsqueeze(0).to(device)\n",
        "        else:\n",
        "            next_state = None\n",
        "\n",
        "        # Store the transition in memory    \n",
        "        memory.push(state, action, next_state, reward)\n",
        "\n",
        "        # Move to the next state\n",
        "        state = next_state\n",
        "\n",
        "        # Perform one step of the optimization (on the policy network)\n",
        "        optimize_model()\n",
        "        if done:\n",
        "            break\n",
        "\n",
        "print('Complete')\n",
        "\n",
        "env.close()"
      ],
      "execution_count": null,
      "outputs": [
        {
          "name": "stdout",
          "output_type": "stream",
          "text": [
            "episode  0 / 300\n",
            "episode  20 / 300\n",
            "episode  40 / 300\n",
            "episode  60 / 300\n",
            "episode  80 / 300\n",
            "episode  100 / 300\n",
            "episode  120 / 300\n",
            "episode  140 / 300\n",
            "episode  160 / 300\n",
            "episode  180 / 300\n",
            "episode  200 / 300\n",
            "episode  220 / 300\n",
            "episode  240 / 300\n",
            "episode  260 / 300\n",
            "episode  280 / 300\n",
            "Complete\n"
          ]
        }
      ]
    },
    {
      "cell_type": "code",
      "metadata": {
        "id": "hx-T2sPgjjAE",
        "outputId": "636ccebd-1a6a-4fef-ed7e-1a5383146134"
      },
      "source": [
        "## run an episode with trained agent and record video\n",
        "## remember to change file_path name if you do not wish to overwrite an existing video\n",
        "\n",
        "env = gym.make(\"CartPole-v1\")\n",
        "file_path = 'video/video.mp4'\n",
        "recorder = VideoRecorder(env, file_path)\n",
        "\n",
        "observation = env.reset()\n",
        "done = False\n",
        "\n",
        "state = state = torch.tensor(env.state).float().unsqueeze(0)\n",
        "\n",
        "duration = 0\n",
        "\n",
        "while not done:\n",
        "    recorder.capture_frame()\n",
        "\n",
        "    # Select and perform an action\n",
        "    action = select_action(state)\n",
        "    observation, reward, done, _ = env.step(action.item())\n",
        "    duration += 1\n",
        "    reward = torch.tensor([reward], device=device)\n",
        "\n",
        "    # Observe new state\n",
        "    state = torch.tensor(env.state).float().unsqueeze(0)\n",
        "\n",
        "recorder.close()\n",
        "env.close()\n",
        "print(\"Episode duration: \", duration)"
      ],
      "execution_count": null,
      "outputs": [
        {
          "name": "stdout",
          "output_type": "stream",
          "text": [
            "Episode duration:  10\n"
          ]
        }
      ]
    },
    {
      "cell_type": "code",
      "metadata": {
        "id": "9UhRB7U-xvoN"
      },
      "source": [
        ""
      ],
      "execution_count": null,
      "outputs": []
    }
  ]
}